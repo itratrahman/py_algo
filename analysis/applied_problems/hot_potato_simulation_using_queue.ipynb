{
 "cells": [
  {
   "cell_type": "markdown",
   "metadata": {},
   "source": [
    "# HOT POTATO SIMULATION USING QUEUE"
   ]
  },
  {
   "cell_type": "markdown",
   "metadata": {},
   "source": [
    "**Append the directory of py_algo package to the system path**"
   ]
  },
  {
   "cell_type": "code",
   "execution_count": 1,
   "metadata": {},
   "outputs": [],
   "source": [
    "from config import *\n",
    "append_path('../../')"
   ]
  },
  {
   "cell_type": "markdown",
   "metadata": {},
   "source": [
    "**Import queue data structure from py_algo package**"
   ]
  },
  {
   "cell_type": "code",
   "execution_count": 2,
   "metadata": {},
   "outputs": [],
   "source": [
    "from py_algo.data_struct import Queue"
   ]
  },
  {
   "cell_type": "markdown",
   "metadata": {},
   "source": [
    "**A function that simulates the hot potato game**"
   ]
  },
  {
   "cell_type": "code",
   "execution_count": 3,
   "metadata": {},
   "outputs": [],
   "source": [
    "def hot_potato(name_list, num):\n",
    "    '''\n",
    "    A function that simulates the hot potato game\n",
    "    Arguments:\n",
    "    name_list - list containing the names of the participants\n",
    "    num - number after which a participant is eliminated\n",
    "    Returns:\n",
    "    python string - the lone survivor\n",
    "    '''\n",
    "    # a queue to store the name of the participants\n",
    "    queue_of_names = Queue()\n",
    "    \n",
    "    # iterate through each name in the list and enqueue each one in the queue\n",
    "    for name in name_list:\n",
    "        queue_of_names.enqueue(name)\n",
    "    \n",
    "    # while there are atleast 2 participants \n",
    "    while queue_of_names.size()>1:\n",
    "        # iterate num of times\n",
    "        for i in range(num):\n",
    "            # dequeue participant from the front and enqueue the same participant to the rear\n",
    "            queue_of_names.enqueue(queue_of_names.dequeue())\n",
    "        # eliminate participant on the front using dequeue operation on the queue\n",
    "        queue_of_names.dequeue()\n",
    "    \n",
    "    # return the name of the lone survivor\n",
    "    return queue_of_names.dequeue()"
   ]
  },
  {
   "cell_type": "markdown",
   "metadata": {},
   "source": [
    "**Play the game with a list of names**"
   ]
  },
  {
   "cell_type": "code",
   "execution_count": 4,
   "metadata": {},
   "outputs": [
    {
     "name": "stdout",
     "output_type": "stream",
     "text": [
      "Wolverine\n",
      "Mystique\n",
      "Magneto\n",
      "Spiderman\n"
     ]
    }
   ],
   "source": [
    "print(hot_potato([\"Spiderman\",\"Deadpool\",\"Wolverine\",\"Magneto\",\"Mystique\",\"Captain America\"],7))\n",
    "print(hot_potato([\"Spiderman\",\"Deadpool\",\"Wolverine\",\"Magneto\",\"Mystique\",\"Captain America\"],6))\n",
    "print(hot_potato([\"Spiderman\",\"Deadpool\",\"Wolverine\",\"Magneto\",\"Mystique\",\"Captain America\"],5))\n",
    "print(hot_potato([\"Spiderman\",\"Deadpool\",\"Wolverine\",\"Magneto\",\"Mystique\",\"Captain America\"],4))"
   ]
  }
 ],
 "metadata": {
  "kernelspec": {
   "display_name": "Python 3",
   "language": "python",
   "name": "python3"
  },
  "language_info": {
   "codemirror_mode": {
    "name": "ipython",
    "version": 3
   },
   "file_extension": ".py",
   "mimetype": "text/x-python",
   "name": "python",
   "nbconvert_exporter": "python",
   "pygments_lexer": "ipython3",
   "version": "3.6.6"
  }
 },
 "nbformat": 4,
 "nbformat_minor": 2
}
